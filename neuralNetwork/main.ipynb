{
 "cells": [
  {
   "cell_type": "code",
   "execution_count": 96,
   "metadata": {},
   "outputs": [],
   "source": [
    "import numpy as np\n",
    "import pandas as pd\n",
    "import matplotlib.pyplot as plt\n",
    "from sklearn.utils import shuffle\n",
    "from fungsi import sigmoid"
   ]
  },
  {
   "cell_type": "markdown",
   "metadata": {},
   "source": [
    "## data otong"
   ]
  },
  {
   "cell_type": "code",
   "execution_count": 97,
   "metadata": {},
   "outputs": [],
   "source": [
    "x1 = np.array([18 + 1 * np.random.randn() for i in range(1,100)])\n",
    "x2 = np.array([5 + 1 * np.random.randn() for i in range(1,100)])\n",
    "y1 = np.array([1 for i in range(1,100)])\n",
    "y2 = np.array([0 for i in range(1,100)])\n",
    "label = np.array(['otong' for i in range(1,100)])\n",
    "\n",
    "data_otong = {\n",
    "    'x1':x1,\n",
    "    'x2':x2,\n",
    "    'y1':y1,\n",
    "    'y2':y2,\n",
    "    'label':label,\n",
    "}\n",
    "\n",
    "dataFrame1 = pd.DataFrame(data=data_otong)\n"
   ]
  },
  {
   "cell_type": "code",
   "execution_count": 98,
   "metadata": {},
   "outputs": [
    {
     "name": "stdout",
     "output_type": "stream",
     "text": [
      "           x1        x2  y1  y2  label\n",
      "0   19.658649  2.619998   1   0  otong\n",
      "1   18.287219  7.113448   1   0  otong\n",
      "2   17.951474  5.688515   1   0  otong\n",
      "3   17.503146  3.744503   1   0  otong\n",
      "4   17.847581  5.138069   1   0  otong\n",
      "..        ...       ...  ..  ..    ...\n",
      "94  19.100301  6.504684   1   0  otong\n",
      "95  18.161700  3.268908   1   0  otong\n",
      "96  16.541874  6.548273   1   0  otong\n",
      "97  17.065228  3.466450   1   0  otong\n",
      "98  17.455136  6.145971   1   0  otong\n",
      "\n",
      "[99 rows x 5 columns]\n"
     ]
    }
   ],
   "source": [
    "print(dataFrame1)"
   ]
  },
  {
   "cell_type": "markdown",
   "metadata": {},
   "source": [
    "## data ucup"
   ]
  },
  {
   "cell_type": "code",
   "execution_count": 99,
   "metadata": {},
   "outputs": [],
   "source": [
    "x1 = np.array([10 + 1 * np.random.randn() for i in range(1,100)])\n",
    "x2 = np.array([8 + 1 * np.random.randn() for i in range(1,100)])\n",
    "y1 = np.array([0 for i in range(1,100)])\n",
    "y2 = np.array([1 for i in range(1,100)])\n",
    "label = np.array(['ucup' for i in range(1,100)])\n",
    "\n",
    "data_ucup = {\n",
    "    'x1':x1,\n",
    "    'x2':x2,\n",
    "    'y1':y1,\n",
    "    'y2':y2,\n",
    "    'label':label,\n",
    "}\n",
    "\n",
    "dataFrame2 = pd.DataFrame(data=data_ucup)\n"
   ]
  },
  {
   "cell_type": "code",
   "execution_count": 100,
   "metadata": {},
   "outputs": [
    {
     "name": "stdout",
     "output_type": "stream",
     "text": [
      "           x1         x2  y1  y2 label\n",
      "0   11.341895   9.388730   0   1  ucup\n",
      "1   10.474943   8.305407   0   1  ucup\n",
      "2    8.477854  10.418856   0   1  ucup\n",
      "3   12.145993   6.972352   0   1  ucup\n",
      "4    8.990368   8.911869   0   1  ucup\n",
      "..        ...        ...  ..  ..   ...\n",
      "94   9.646915   9.534394   0   1  ucup\n",
      "95   9.902533   7.829109   0   1  ucup\n",
      "96  10.058168   7.714061   0   1  ucup\n",
      "97   9.319940   7.562027   0   1  ucup\n",
      "98   8.447503   8.168177   0   1  ucup\n",
      "\n",
      "[99 rows x 5 columns]\n"
     ]
    }
   ],
   "source": [
    "print(dataFrame2)"
   ]
  },
  {
   "cell_type": "code",
   "execution_count": 101,
   "metadata": {},
   "outputs": [
    {
     "data": {
      "image/png": "[encoded data removed]",
      "text/plain": [
       "<Figure size 640x480 with 1 Axes>"
      ]
     },
     "metadata": {},
     "output_type": "display_data"
    }
   ],
   "source": [
    "plt.scatter(dataFrame1['x1'],dataFrame1['x2'],color='red',label='otong')\n",
    "plt.scatter(dataFrame2['x1'],dataFrame2['x2'],color='blue',label='ucup')\n",
    "plt.legend()\n",
    "plt.show()"
   ]
  },
  {
   "cell_type": "markdown",
   "metadata": {},
   "source": [
    "## gabungin data"
   ]
  },
  {
   "cell_type": "code",
   "execution_count": 102,
   "metadata": {},
   "outputs": [],
   "source": [
    "dataFrame = pd.concat([dataFrame1,dataFrame2])\n",
    "dataFrame = shuffle(dataFrame)\n",
    "dataFrame.reset_index(inplace = True, drop=True)"
   ]
  },
  {
   "cell_type": "code",
   "execution_count": 103,
   "metadata": {},
   "outputs": [
    {
     "name": "stdout",
     "output_type": "stream",
     "text": [
      "            x1        x2  y1  y2  label\n",
      "0    17.851533  4.070417   1   0  otong\n",
      "1    19.417116  3.828979   1   0  otong\n",
      "2    17.908299  5.328423   1   0  otong\n",
      "3     9.246719  9.250944   0   1   ucup\n",
      "4    10.447439  8.306664   0   1   ucup\n",
      "..         ...       ...  ..  ..    ...\n",
      "193  10.640587  7.246341   0   1   ucup\n",
      "194  18.756214  5.893421   1   0  otong\n",
      "195   8.860369  7.110959   0   1   ucup\n",
      "196  19.375028  2.818709   1   0  otong\n",
      "197  16.892589  6.157246   1   0  otong\n",
      "\n",
      "[198 rows x 5 columns]\n"
     ]
    }
   ],
   "source": [
    "print(dataFrame)"
   ]
  },
  {
   "cell_type": "markdown",
   "metadata": {},
   "source": [
    "## neural network\n"
   ]
  },
  {
   "cell_type": "markdown",
   "metadata": {},
   "source": [
    "## matriks weight"
   ]
  },
  {
   "cell_type": "code",
   "execution_count": 104,
   "metadata": {},
   "outputs": [],
   "source": [
    "w11 = np.random.uniform(-0.01,0.01)\n",
    "w12 = np.random.uniform(-0.01,0.01)\n",
    "w22 = np.random.uniform(-0.01,0.01)\n",
    "w21 = np.random.uniform(-0.01,0.01)\n",
    "\n",
    "W = np.array([[w11,w12],[w21,w22]])"
   ]
  },
  {
   "cell_type": "code",
   "execution_count": 105,
   "metadata": {},
   "outputs": [
    {
     "name": "stdout",
     "output_type": "stream",
     "text": [
      "[[-0.00220549  0.00413253]\n",
      " [-0.00226682 -0.00327797]]\n"
     ]
    }
   ],
   "source": [
    "print(W)"
   ]
  },
  {
   "cell_type": "markdown",
   "metadata": {},
   "source": [
    "### iterasi neural network"
   ]
  },
  {
   "cell_type": "code",
   "execution_count": 106,
   "metadata": {},
   "outputs": [
    {
     "name": "stdout",
     "output_type": "stream",
     "text": [
      "index = 0 tebakan = otong jawaban = otong\n",
      "index = 1 tebakan = otong jawaban = otong\n",
      "index = 2 tebakan = otong jawaban = otong\n",
      "index = 3 tebakan = otong jawaban = ucup\n",
      "index = 4 tebakan = otong jawaban = ucup\n",
      "index = 5 tebakan = ucup jawaban = ucup\n",
      "index = 6 tebakan = ucup jawaban = ucup\n",
      "index = 7 tebakan = ucup jawaban = ucup\n",
      "index = 8 tebakan = ucup jawaban = otong\n",
      "index = 9 tebakan = ucup jawaban = ucup\n",
      "index = 10 tebakan = ucup jawaban = ucup\n",
      "index = 11 tebakan = ucup jawaban = ucup\n",
      "index = 12 tebakan = ucup jawaban = otong\n",
      "index = 13 tebakan = ucup jawaban = ucup\n",
      "index = 14 tebakan = ucup jawaban = ucup\n",
      "index = 15 tebakan = ucup jawaban = ucup\n",
      "index = 16 tebakan = ucup jawaban = otong\n",
      "index = 17 tebakan = otong jawaban = otong\n",
      "index = 18 tebakan = otong jawaban = otong\n",
      "index = 19 tebakan = otong jawaban = otong\n",
      "index = 20 tebakan = otong jawaban = otong\n",
      "index = 21 tebakan = otong jawaban = otong\n",
      "index = 22 tebakan = otong jawaban = ucup\n",
      "index = 23 tebakan = otong jawaban = otong\n",
      "index = 24 tebakan = otong jawaban = otong\n",
      "index = 25 tebakan = otong jawaban = otong\n",
      "index = 26 tebakan = otong jawaban = otong\n",
      "index = 27 tebakan = otong jawaban = ucup\n",
      "index = 28 tebakan = ucup jawaban = ucup\n",
      "index = 29 tebakan = otong jawaban = otong\n",
      "index = 30 tebakan = ucup jawaban = ucup\n",
      "index = 31 tebakan = otong jawaban = otong\n",
      "index = 32 tebakan = ucup jawaban = ucup\n",
      "index = 33 tebakan = ucup jawaban = ucup\n",
      "index = 34 tebakan = ucup jawaban = ucup\n",
      "index = 35 tebakan = ucup jawaban = ucup\n",
      "index = 36 tebakan = ucup jawaban = ucup\n",
      "index = 37 tebakan = ucup jawaban = ucup\n",
      "index = 38 tebakan = otong jawaban = otong\n",
      "index = 39 tebakan = otong jawaban = otong\n",
      "index = 40 tebakan = otong jawaban = otong\n",
      "index = 41 tebakan = otong jawaban = otong\n",
      "index = 42 tebakan = otong jawaban = otong\n",
      "index = 43 tebakan = ucup jawaban = ucup\n",
      "index = 44 tebakan = otong jawaban = otong\n",
      "index = 45 tebakan = ucup jawaban = ucup\n",
      "index = 46 tebakan = ucup jawaban = ucup\n",
      "index = 47 tebakan = ucup jawaban = ucup\n",
      "index = 48 tebakan = otong jawaban = otong\n",
      "index = 49 tebakan = ucup jawaban = ucup\n",
      "index = 50 tebakan = ucup jawaban = ucup\n",
      "index = 51 tebakan = otong jawaban = otong\n",
      "index = 52 tebakan = otong jawaban = otong\n",
      "index = 53 tebakan = otong jawaban = otong\n",
      "index = 54 tebakan = ucup jawaban = ucup\n",
      "index = 55 tebakan = otong jawaban = otong\n",
      "index = 56 tebakan = ucup jawaban = ucup\n",
      "index = 57 tebakan = ucup jawaban = ucup\n",
      "index = 58 tebakan = ucup jawaban = ucup\n",
      "index = 59 tebakan = otong jawaban = otong\n",
      "index = 60 tebakan = ucup jawaban = ucup\n",
      "index = 61 tebakan = ucup jawaban = ucup\n",
      "index = 62 tebakan = ucup jawaban = ucup\n",
      "index = 63 tebakan = ucup jawaban = ucup\n",
      "index = 64 tebakan = otong jawaban = otong\n",
      "index = 65 tebakan = otong jawaban = otong\n",
      "index = 66 tebakan = otong jawaban = otong\n",
      "index = 67 tebakan = otong jawaban = otong\n",
      "index = 68 tebakan = otong jawaban = otong\n",
      "index = 69 tebakan = ucup jawaban = ucup\n",
      "index = 70 tebakan = ucup jawaban = ucup\n",
      "index = 71 tebakan = otong jawaban = otong\n",
      "index = 72 tebakan = otong jawaban = otong\n",
      "index = 73 tebakan = otong jawaban = otong\n",
      "index = 74 tebakan = otong jawaban = otong\n",
      "index = 75 tebakan = ucup jawaban = ucup\n",
      "index = 76 tebakan = ucup jawaban = ucup\n",
      "index = 77 tebakan = ucup jawaban = ucup\n",
      "index = 78 tebakan = ucup jawaban = ucup\n",
      "index = 79 tebakan = otong jawaban = otong\n",
      "index = 80 tebakan = otong jawaban = otong\n",
      "index = 81 tebakan = otong jawaban = otong\n",
      "index = 82 tebakan = ucup jawaban = ucup\n",
      "index = 83 tebakan = ucup jawaban = ucup\n",
      "index = 84 tebakan = ucup jawaban = ucup\n",
      "index = 85 tebakan = ucup jawaban = ucup\n",
      "index = 86 tebakan = ucup jawaban = ucup\n",
      "index = 87 tebakan = otong jawaban = otong\n",
      "index = 88 tebakan = ucup jawaban = ucup\n",
      "index = 89 tebakan = ucup jawaban = ucup\n",
      "index = 90 tebakan = otong jawaban = otong\n",
      "index = 91 tebakan = ucup jawaban = ucup\n",
      "index = 92 tebakan = otong jawaban = otong\n",
      "index = 93 tebakan = ucup jawaban = ucup\n",
      "index = 94 tebakan = otong jawaban = otong\n",
      "index = 95 tebakan = ucup jawaban = ucup\n",
      "index = 96 tebakan = otong jawaban = otong\n",
      "index = 97 tebakan = otong jawaban = otong\n",
      "index = 98 tebakan = otong jawaban = otong\n",
      "index = 99 tebakan = ucup jawaban = ucup\n",
      "index = 100 tebakan = otong jawaban = otong\n",
      "index = 101 tebakan = ucup jawaban = ucup\n",
      "index = 102 tebakan = otong jawaban = otong\n",
      "index = 103 tebakan = otong jawaban = otong\n",
      "index = 104 tebakan = otong jawaban = otong\n",
      "index = 105 tebakan = otong jawaban = otong\n",
      "index = 106 tebakan = ucup jawaban = ucup\n",
      "index = 107 tebakan = ucup jawaban = ucup\n",
      "index = 108 tebakan = ucup jawaban = ucup\n",
      "index = 109 tebakan = otong jawaban = otong\n",
      "index = 110 tebakan = otong jawaban = otong\n",
      "index = 111 tebakan = ucup jawaban = ucup\n",
      "index = 112 tebakan = otong jawaban = otong\n",
      "index = 113 tebakan = otong jawaban = otong\n",
      "index = 114 tebakan = ucup jawaban = ucup\n",
      "index = 115 tebakan = ucup jawaban = ucup\n",
      "index = 116 tebakan = ucup jawaban = ucup\n",
      "index = 117 tebakan = otong jawaban = otong\n",
      "index = 118 tebakan = otong jawaban = otong\n",
      "index = 119 tebakan = ucup jawaban = ucup\n",
      "index = 120 tebakan = ucup jawaban = ucup\n",
      "index = 121 tebakan = otong jawaban = otong\n",
      "index = 122 tebakan = otong jawaban = otong\n",
      "index = 123 tebakan = otong jawaban = otong\n",
      "index = 124 tebakan = ucup jawaban = ucup\n",
      "index = 125 tebakan = ucup jawaban = ucup\n",
      "index = 126 tebakan = otong jawaban = otong\n",
      "index = 127 tebakan = otong jawaban = otong\n",
      "index = 128 tebakan = ucup jawaban = ucup\n",
      "index = 129 tebakan = otong jawaban = otong\n",
      "index = 130 tebakan = ucup jawaban = ucup\n",
      "index = 131 tebakan = ucup jawaban = ucup\n",
      "index = 132 tebakan = otong jawaban = otong\n",
      "index = 133 tebakan = otong jawaban = otong\n",
      "index = 134 tebakan = otong jawaban = otong\n",
      "index = 135 tebakan = ucup jawaban = ucup\n",
      "index = 136 tebakan = ucup jawaban = ucup\n",
      "index = 137 tebakan = otong jawaban = otong\n",
      "index = 138 tebakan = otong jawaban = otong\n",
      "index = 139 tebakan = ucup jawaban = ucup\n",
      "index = 140 tebakan = ucup jawaban = ucup\n",
      "index = 141 tebakan = ucup jawaban = ucup\n",
      "index = 142 tebakan = otong jawaban = otong\n",
      "index = 143 tebakan = ucup jawaban = ucup\n",
      "index = 144 tebakan = otong jawaban = otong\n",
      "index = 145 tebakan = otong jawaban = otong\n",
      "index = 146 tebakan = ucup jawaban = ucup\n",
      "index = 147 tebakan = otong jawaban = otong\n",
      "index = 148 tebakan = ucup jawaban = ucup\n",
      "index = 149 tebakan = ucup jawaban = ucup\n",
      "index = 150 tebakan = otong jawaban = otong\n",
      "index = 151 tebakan = ucup jawaban = ucup\n",
      "index = 152 tebakan = otong jawaban = otong\n",
      "index = 153 tebakan = ucup jawaban = ucup\n",
      "index = 154 tebakan = otong jawaban = otong\n",
      "index = 155 tebakan = otong jawaban = otong\n",
      "index = 156 tebakan = ucup jawaban = ucup\n",
      "index = 157 tebakan = ucup jawaban = ucup\n",
      "index = 158 tebakan = ucup jawaban = ucup\n",
      "index = 159 tebakan = otong jawaban = otong\n",
      "index = 160 tebakan = ucup jawaban = ucup\n",
      "index = 161 tebakan = otong jawaban = otong\n",
      "index = 162 tebakan = otong jawaban = otong\n",
      "index = 163 tebakan = ucup jawaban = ucup\n",
      "index = 164 tebakan = ucup jawaban = ucup\n",
      "index = 165 tebakan = otong jawaban = otong\n",
      "index = 166 tebakan = otong jawaban = otong\n",
      "index = 167 tebakan = otong jawaban = otong\n",
      "index = 168 tebakan = ucup jawaban = ucup\n",
      "index = 169 tebakan = ucup jawaban = ucup\n",
      "index = 170 tebakan = otong jawaban = otong\n",
      "index = 171 tebakan = otong jawaban = otong\n",
      "index = 172 tebakan = ucup jawaban = ucup\n",
      "index = 173 tebakan = ucup jawaban = ucup\n",
      "index = 174 tebakan = ucup jawaban = ucup\n",
      "index = 175 tebakan = otong jawaban = otong\n",
      "index = 176 tebakan = ucup jawaban = ucup\n",
      "index = 177 tebakan = ucup jawaban = ucup\n",
      "index = 178 tebakan = otong jawaban = otong\n",
      "index = 179 tebakan = otong jawaban = otong\n",
      "index = 180 tebakan = ucup jawaban = ucup\n",
      "index = 181 tebakan = otong jawaban = otong\n",
      "index = 182 tebakan = ucup jawaban = ucup\n",
      "index = 183 tebakan = otong jawaban = otong\n",
      "index = 184 tebakan = ucup jawaban = ucup\n",
      "index = 185 tebakan = ucup jawaban = ucup\n",
      "index = 186 tebakan = otong jawaban = otong\n",
      "index = 187 tebakan = otong jawaban = otong\n",
      "index = 188 tebakan = otong jawaban = otong\n",
      "index = 189 tebakan = otong jawaban = otong\n",
      "index = 190 tebakan = otong jawaban = otong\n",
      "index = 191 tebakan = ucup jawaban = ucup\n",
      "index = 192 tebakan = ucup jawaban = ucup\n",
      "index = 193 tebakan = ucup jawaban = ucup\n",
      "index = 194 tebakan = otong jawaban = otong\n",
      "index = 195 tebakan = ucup jawaban = ucup\n",
      "index = 196 tebakan = otong jawaban = otong\n",
      "index = 197 tebakan = otong jawaban = otong\n"
     ]
    }
   ],
   "source": [
    "learningRate = 0.1\n",
    "\n",
    "for index,baris in dataFrame.iterrows():\n",
    "    input = np.array([[baris.x1],[baris.x2]])\n",
    "    outputHidden = np.dot(W,input)\n",
    "    outputLearn = sigmoid(outputHidden)\n",
    "    outputAktual = np.array([[baris.y1],[baris.y2]])\n",
    "    \n",
    "    error = (outputAktual - outputLearn)\n",
    "    deltaW = np.dot(learningRate*error*outputLearn*(1-outputLearn),input.T)\n",
    "    W += deltaW\n",
    "    \n",
    "    tebakan = np.argmax(outputLearn)\n",
    "    jawaban = np.argmax(outputAktual)\n",
    "    \n",
    "    labelTebakan = \"ucup\" if tebakan == 1 else 'otong' \n",
    "    \n",
    "    print(f\"index = {index} tebakan = {labelTebakan} jawaban = {baris.label}\")"
   ]
  }
 ],
 "metadata": {
  "kernelspec": {
   "display_name": ".venv",
   "language": "python",
   "name": "python3"
  },
  "language_info": {
   "codemirror_mode": {
    "name": "ipython",
    "version": 3
   },
   "file_extension": ".py",
   "mimetype": "text/x-python",
   "name": "python",
   "nbconvert_exporter": "python",
   "pygments_lexer": "ipython3",
   "version": "3.11.4"
  },
  "orig_nbformat": 4
 },
 "nbformat": 4,
 "nbformat_minor": 2
}
